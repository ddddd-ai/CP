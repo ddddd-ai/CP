{
  "nbformat": 4,
  "nbformat_minor": 0,
  "metadata": {
    "colab": {
      "provenance": [],
      "authorship_tag": "ABX9TyPrFzBdaLbfD96LJMZ73jJm",
      "include_colab_link": true
    },
    "kernelspec": {
      "name": "python3",
      "display_name": "Python 3"
    },
    "language_info": {
      "name": "python"
    }
  },
  "cells": [
    {
      "cell_type": "markdown",
      "metadata": {
        "id": "view-in-github",
        "colab_type": "text"
      },
      "source": [
        "<a href=\"https://colab.research.google.com/github/ddddd-ai/CP/blob/main/%E5%8A%A0%E7%8F%AD%E6%A0%B8%E6%B4%BE%E5%96%AE-2.ipynb\" target=\"_parent\"><img src=\"https://colab.research.google.com/assets/colab-badge.svg\" alt=\"Open In Colab\"/></a>"
      ]
    },
    {
      "cell_type": "code",
      "source": [
        "[![Open In Colab](https://colab.research.google.com/assets/colab-badge.svg)](https://colab.research.google.com/github/你的帳號/你的repo/blob/main/你的筆記本.ipynb)"
      ],
      "metadata": {
        "colab": {
          "base_uri": "https://localhost:8080/",
          "height": 110
        },
        "id": "lGEdlRi6AiXj",
        "outputId": "3aefc4e9-5164-41a0-d046-7ed41e511723"
      },
      "execution_count": 1,
      "outputs": [
        {
          "output_type": "error",
          "ename": "SyntaxError",
          "evalue": "invalid syntax (<ipython-input-1-e550826d1a72>, line 1)",
          "traceback": [
            "\u001b[0;36m  File \u001b[0;32m\"<ipython-input-1-e550826d1a72>\"\u001b[0;36m, line \u001b[0;32m1\u001b[0m\n\u001b[0;31m    [![Open In Colab](https://colab.research.google.com/assets/colab-badge.svg)](https://colab.research.google.com/github/你的帳號/你的repo/blob/main/你的筆記本.ipynb)\u001b[0m\n\u001b[0m     ^\u001b[0m\n\u001b[0;31mSyntaxError\u001b[0m\u001b[0;31m:\u001b[0m invalid syntax\n"
          ]
        }
      ]
    },
    {
      "cell_type": "code",
      "execution_count": null,
      "metadata": {
        "id": "HRCN7iQ_UcZC"
      },
      "outputs": [],
      "source": [
        "import pandas as pd\n",
        "import os\n",
        "from datetime import datetime, timedelta\n",
        "from docx import Document\n",
        "from docx.oxml.ns import qn\n",
        "from docx.shared import Pt\n",
        "\n",
        "# ======== 設定 ========\n",
        "打卡檔案 = \"打卡.xlsx\"\n",
        "word範本 = \"加班單範本.docx\"\n",
        "輸出資料夾 = \"加班核派單\"\n",
        "os.makedirs(輸出資料夾, exist_ok=True)\n",
        "\n",
        "# ======== 工具函數 ========\n",
        "def fmt(dt):\n",
        "    return f\"{dt.year} 年 {dt.month} 月 {dt.day} 日 {dt.hour} 時 {dt.minute} 分\"\n",
        "\n",
        "def 時數轉共計文字(時數):\n",
        "    h = int(時數)\n",
        "    m = int((時數 - h) * 60)\n",
        "    return f\"共計{h}時{m}分\"\n",
        "\n",
        "# ======== 讀取資料並分析加班 ========\n",
        "df = pd.read_excel(打卡檔案)\n",
        "df[\"刷卡時間\"] = pd.to_datetime(df[\"刷卡時間\"])\n",
        "df[\"日期\"] = df[\"刷卡時間\"].dt.date\n",
        "df = df[df[\"成功/失敗\"].str.contains(\"成功\", na=False)]\n",
        "\n",
        "加班紀錄 = []\n",
        "\n",
        "for 日期, group in df.groupby(\"日期\"):\n",
        "    打卡時間 = sorted(group[\"刷卡時間\"])\n",
        "    if len(打卡時間) < 2:\n",
        "        continue\n",
        "\n",
        "    上班 = 打卡時間[0]\n",
        "    下班 = 打卡時間[-1]\n",
        "\n",
        "    正常下班 = 上班 + timedelta(hours=8, minutes=30)\n",
        "    加班起 = 正常下班 + timedelta(minutes=30)\n",
        "\n",
        "    if 下班 <= 加班起:\n",
        "        continue\n",
        "\n",
        "    # 實際加班時間（分鐘）\n",
        "    加班分鐘 = (下班 - 加班起).total_seconds() / 60\n",
        "    有效分鐘 = int(加班分鐘 // 30) * 30\n",
        "    if 有效分鐘 < 30:\n",
        "        continue\n",
        "\n",
        "    申報時數 = 有效分鐘 / 60\n",
        "    共計文字 = 時數轉共計文字(申報時數)\n",
        "\n",
        "    加班紀錄.append({\n",
        "        \"date\": 日期,\n",
        "        \"ot_start_time\": 加班起,\n",
        "        \"ot_end_time\": 下班,\n",
        "        \"申報時數\": 申報時數,\n",
        "        \"共計文字\": 共計文字\n",
        "    })\n",
        "\n",
        "summary_df = pd.DataFrame(加班紀錄)\n",
        "\n",
        "# ======== 產出 Word ========\n",
        "for _, row in summary_df.iterrows():\n",
        "    doc = Document(word範本)\n",
        "\n",
        "    日期 = row[\"date\"]\n",
        "    預計起 = datetime.combine(日期, datetime.strptime(\"17:00\", \"%H:%M\").time())\n",
        "    預計迄 = 預計起 + timedelta(hours=row[\"申報時數\"])\n",
        "    預計共計 = 時數轉共計文字(row[\"申報時數\"])\n",
        "\n",
        "    實際起 = pd.to_datetime(row[\"ot_start_time\"])\n",
        "    實際迄 = pd.to_datetime(row[\"ot_end_time\"])\n",
        "    實際共計 = 時數轉共計文字(row[\"申報時數\"])  # ✅ 改由申報時數換算\n",
        "\n",
        "    填表內容 = {\n",
        "        (2, 1): fmt(預計起),\n",
        "        (2, 6): fmt(預計迄),\n",
        "        (2, 9): 預計共計,\n",
        "        (3, 1): fmt(實際起),\n",
        "        (3, 6): fmt(實際迄),\n",
        "        (3, 9): 實際共計,\n",
        "    }\n",
        "\n",
        "    for (r, c), val in 填表內容.items():\n",
        "        cell = doc.tables[0].rows[r].cells[c]\n",
        "        cell.text = val\n",
        "        run = cell.paragraphs[0].runs[0]\n",
        "        run.font.name = 'DFKai-SB'\n",
        "        run._element.rPr.rFonts.set(qn('w:eastAsia'), 'DFKai-SB')\n",
        "        run.font.size = Pt(10)\n",
        "\n",
        "    # 填單日期\n",
        "    填單日期文字 = f\"填單日期：{日期.year}年{日期.month}月{日期.day}日\"\n",
        "    for para in doc.paragraphs:\n",
        "        if \"填單日期\" in para.text:\n",
        "            para.text = 填單日期文字\n",
        "            run = para.runs[0]\n",
        "            run.font.name = 'DFKai-SB'\n",
        "            run._element.rPr.rFonts.set(qn('w:eastAsia'), 'DFKai-SB')\n",
        "            run.font.size = Pt(10)\n",
        "            break\n",
        "\n",
        "    檔名 = f\"加班單_{日期}.docx\"\n",
        "    doc.save(os.path.join(輸出資料夾, 檔名))\n",
        "\n",
        "print(\"✅ 所有加班核派單已產出完成！\")\n"
      ]
    }
  ]
}